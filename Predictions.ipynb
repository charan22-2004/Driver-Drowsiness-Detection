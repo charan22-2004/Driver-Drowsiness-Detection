{
 "cells": [
  {
   "cell_type": "markdown",
   "metadata": {},
   "source": [
    "Importing The necessary Libraries"
   ]
  },
  {
   "cell_type": "code",
   "execution_count": null,
   "metadata": {},
   "outputs": [],
   "source": [
    "import numpy as np\n",
    "from keras.models import load_model\n",
    "from PIL import Image\n",
    "from IPython.display import display\n",
    "import winsound \n"
   ]
  },
  {
   "cell_type": "markdown",
   "metadata": {},
   "source": [
    "Pre-Process The Input"
   ]
  },
  {
   "cell_type": "code",
   "execution_count": null,
   "metadata": {},
   "outputs": [],
   "source": [
    "def process_frame(frame):\n",
    "    \n",
    "    img_width, img_height = 64, 64  \n",
    "    resized_frame = frame.resize((img_width, img_height))\n",
    "    \n",
    "\n",
    "    gray_frame = resized_frame.convert('L')\n",
    "    \n",
    "    \n",
    "    normalized_frame = np.array(gray_frame) / 255.0\n",
    "    \n",
    "  \n",
    "    processed_frame = np.expand_dims(np.expand_dims(normalized_frame, axis=-1), axis=0)\n",
    "    \n",
    "    return processed_frame\n",
    "\n"
   ]
  },
  {
   "cell_type": "markdown",
   "metadata": {},
   "source": [
    "Loading The Model"
   ]
  },
  {
   "cell_type": "code",
   "execution_count": null,
   "metadata": {},
   "outputs": [],
   "source": [
    "best_model= load_model('bestModel.keras')\n"
   ]
  },
  {
   "cell_type": "code",
   "execution_count": null,
   "metadata": {},
   "outputs": [
    {
     "data": {
      "image/jpeg": "[encoded data removed]",
      "image/png": "[encoded data removed]",
      "text/plain": [
       "<PIL.PngImagePlugin.PngImageFile image mode=L size=80x80>"
      ]
     },
     "metadata": {},
     "output_type": "display_data"
    },
    {
     "name": "stdout",
     "output_type": "stream",
     "text": [
      "\u001b[1m1/1\u001b[0m \u001b[32m━━━━━━━━━━━━━━━━━━━━\u001b[0m\u001b[37m\u001b[0m \u001b[1m0s\u001b[0m 50ms/step\n",
      "Eyes are CLOSED\n",
      "Alarm triggered!\n"
     ]
    }
   ],
   "source": [
    "image_path = \"s0037_00090_1_0_0_0_1_01.png\"  \n",
    "frame = Image.open(image_path)\n",
    "display(frame)\n",
    "processed_frame = process_frame(frame)\n",
    "prediction = best_model.predict(processed_frame)\n",
    "if prediction > 0.5:\n",
    "    print(\"Eyes are OPEN\")\n",
    "else:\n",
    "    print(\"Eyes are CLOSED\")\n",
    "    print(\"Alarm triggered!\")\n",
    "    winsound.Beep(1000, 7000) "
   ]
  }
 ],
 "metadata": {
  "kernelspec": {
   "display_name": "Python 3",
   "language": "python",
   "name": "python3"
  },
  "language_info": {
   "codemirror_mode": {
    "name": "ipython",
    "version": 3
   },
   "file_extension": ".py",
   "mimetype": "text/x-python",
   "name": "python",
   "nbconvert_exporter": "python",
   "pygments_lexer": "ipython3",
   "version": "3.12.1"
  }
 },
 "nbformat": 4,
 "nbformat_minor": 2
}
